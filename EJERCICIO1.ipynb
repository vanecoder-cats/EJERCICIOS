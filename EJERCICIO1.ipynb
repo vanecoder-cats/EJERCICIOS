{
  "nbformat": 4,
  "nbformat_minor": 0,
  "metadata": {
    "colab": {
      "provenance": [],
      "authorship_tag": "ABX9TyNXSZ6PvSyZ76iIUx1iF1+1",
      "include_colab_link": true
    },
    "kernelspec": {
      "name": "python3",
      "display_name": "Python 3"
    },
    "language_info": {
      "name": "python"
    }
  },
  "cells": [
    {
      "cell_type": "markdown",
      "metadata": {
        "id": "view-in-github",
        "colab_type": "text"
      },
      "source": [
        "<a href=\"https://colab.research.google.com/github/vanecoder-cats/EJERCICIOS/blob/main/EJERCICIO1.ipynb\" target=\"_parent\"><img src=\"https://colab.research.google.com/assets/colab-badge.svg\" alt=\"Open In Colab\"/></a>"
      ]
    },
    {
      "cell_type": "code",
      "execution_count": null,
      "metadata": {
        "colab": {
          "base_uri": "https://localhost:8080/"
        },
        "id": "sZZjnqbM3F2i",
        "outputId": "1f5a45ac-e2d9-494a-9a86-7d217572fc17"
      },
      "outputs": [
        {
          "output_type": "stream",
          "name": "stdout",
          "text": [
            "Ingresar el primer numero: 40\n",
            "Ingresar el segundo numero: 30\n",
            "El mcm de (40, 30) es: 120.0\n"
          ]
        }
      ],
      "source": [
        "def mcd(a, b):\n",
        "  while b != 0:\n",
        "    r = a % b\n",
        "    a = b\n",
        "    b = r\n",
        "  return a\n",
        "\n",
        "a = int(input(\"Ingresar el primer numero: \"))\n",
        "b = int(input(\"Ingresar el segundo numero: \"))\n",
        "\n",
        "mcm_resultado = (a * b) / mcd(a, b)\n",
        "\n",
        "print(f\"El mcm de ({a}, {b}) es: {mcm_resultado}\")"
      ]
    }
  ]
}