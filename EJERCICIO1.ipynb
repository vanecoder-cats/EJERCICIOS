{
  "nbformat": 4,
  "nbformat_minor": 0,
  "metadata": {
    "colab": {
      "provenance": [],
      "authorship_tag": "ABX9TyPjPoJXQiiNDqIqx/EbuLK9",
      "include_colab_link": true
    },
    "kernelspec": {
      "name": "python3",
      "display_name": "Python 3"
    },
    "language_info": {
      "name": "python"
    }
  },
  "cells": [
    {
      "cell_type": "markdown",
      "metadata": {
        "id": "view-in-github",
        "colab_type": "text"
      },
      "source": [
        "<a href=\"https://colab.research.google.com/github/vanecoder-cats/EJERCICIOS/blob/main/EJERCICIO1.ipynb\" target=\"_parent\"><img src=\"https://colab.research.google.com/assets/colab-badge.svg\" alt=\"Open In Colab\"/></a>"
      ]
    },
    {
      "cell_type": "code",
      "execution_count": null,
      "metadata": {
        "id": "iyZx3sJKHCpf"
      },
      "outputs": [],
      "source": [
        "def velocidad_calculada(d, t):\n",
        "  if t != 0:\n",
        "    velocidad = d / t\n",
        "    return velocidad\n",
        "\n",
        "distancia = int(input(\"ingrese la distancia(en m): \"))\n",
        "tiempo = int(input(\"ingrese el tiempo(en s): \"))\n",
        "\n",
        "resultado_de_velocidad = velocidad_calculada(distancia, tiempo)\n",
        "\n",
        "print(f\"La velocidad es: {resultado_de_velocidad} m/s\")"
      ]
    }
  ]
}